{
 "cells": [
  {
   "cell_type": "code",
   "execution_count": 1,
   "id": "d4dda183-e5c9-45a7-af68-d296408c5d45",
   "metadata": {},
   "outputs": [],
   "source": [
    "import os\n",
    "import pandas as pd\n",
    "from pandasai import SmartDataframe\n",
    "from pandasai.llm.local_llm import LocalLLM"
   ]
  },
  {
   "cell_type": "code",
   "execution_count": 2,
   "id": "5563b705-2143-4b50-840c-fe909f04fd65",
   "metadata": {},
   "outputs": [],
   "source": [
    "sales_by_country = pd.DataFrame({\n",
    "    \"country\": [\"United States\", \"United Kingdom\", \"France\", \"Germany\", \"Italy\", \"Spain\", \"Canada\", \"Australia\", \"Japan\", \"China\"],\n",
    "    \"sales\": [5000, 3200, 2900, 4100, 2300, 2100, 2500, 2600, 4500, 7000]\n",
    "})\n",
    "index_by_country = pd.DataFrame({\n",
    "    \"country\": [\"United States\", \"United Kingdom\", \"France\", \"Germany\", \"Italy\", \"Spain\", \"Canada\", \"Australia\", \"Japan\", \"China\"],\n",
    "    \"index\": [1, 2, 3, 4, 5, 6, 7, 8, 9, 10]\n",
    "})\n",
    "field_descriptions={'country':'国家' , 'sales':'国家对应的销售额'}"
   ]
  },
  {
   "cell_type": "markdown",
   "id": "f803eef6-e06a-4e0a-b973-f2a4eface4c3",
   "metadata": {},
   "source": [
    "## 以下为测试内容"
   ]
  },
  {
   "cell_type": "markdown",
   "id": "74236632-9a23-468c-b408-b1aeb79b6677",
   "metadata": {},
   "source": [
    "## 普通chat---单个df和多个df测试功能"
   ]
  },
  {
   "cell_type": "code",
   "execution_count": 4,
   "id": "09329476-8455-4551-bd27-98c325d8d0c4",
   "metadata": {},
   "outputs": [
    {
     "name": "stdout",
     "output_type": "stream",
     "text": [
      "当前输入参数为 Namespace(dfs=['sales_by_country'], model='deepseek-r1:7b', api_base='http://localhost:11434/v1', output_type='string', agent=False, memory_size=5, clarification=False, explain=False, skills=None, whitelist=None, example_df=None, field_descriptions=['field_descriptions']) \n",
      "\n"
     ]
    },
    {
     "ename": "TypeError",
     "evalue": "unhashable type: 'list'",
     "output_type": "error",
     "traceback": [
      "\u001b[0;31m---------------------------------------------------------------------------\u001b[0m",
      "\u001b[0;31mTypeError\u001b[0m                                 Traceback (most recent call last)",
      "Cell \u001b[0;32mIn[4], line 1\u001b[0m\n\u001b[0;32m----> 1\u001b[0m \u001b[43mget_ipython\u001b[49m\u001b[43m(\u001b[49m\u001b[43m)\u001b[49m\u001b[38;5;241;43m.\u001b[39;49m\u001b[43mrun_cell_magic\u001b[49m\u001b[43m(\u001b[49m\u001b[38;5;124;43m'\u001b[39;49m\u001b[38;5;124;43mpandas_ai\u001b[39;49m\u001b[38;5;124;43m'\u001b[39;49m\u001b[43m,\u001b[49m\u001b[43m \u001b[49m\u001b[38;5;124;43m'\u001b[39;49m\u001b[38;5;124;43msales_by_country --field_descriptions=field_descriptions\u001b[39;49m\u001b[38;5;124;43m'\u001b[39;49m\u001b[43m,\u001b[49m\u001b[43m \u001b[49m\u001b[38;5;124;43m'\u001b[39;49m\u001b[38;5;124;43msales最高的国家是哪一个？\u001b[39;49m\u001b[38;5;130;43;01m\\n\u001b[39;49;00m\u001b[38;5;124;43m'\u001b[39;49m\u001b[43m)\u001b[49m\n",
      "File \u001b[0;32m~/anaconda3/envs/jupyter-ai/lib/python3.10/site-packages/IPython/core/interactiveshell.py:2543\u001b[0m, in \u001b[0;36mInteractiveShell.run_cell_magic\u001b[0;34m(self, magic_name, line, cell)\u001b[0m\n\u001b[1;32m   2541\u001b[0m \u001b[38;5;28;01mwith\u001b[39;00m \u001b[38;5;28mself\u001b[39m\u001b[38;5;241m.\u001b[39mbuiltin_trap:\n\u001b[1;32m   2542\u001b[0m     args \u001b[38;5;241m=\u001b[39m (magic_arg_s, cell)\n\u001b[0;32m-> 2543\u001b[0m     result \u001b[38;5;241m=\u001b[39m \u001b[43mfn\u001b[49m\u001b[43m(\u001b[49m\u001b[38;5;241;43m*\u001b[39;49m\u001b[43margs\u001b[49m\u001b[43m,\u001b[49m\u001b[43m \u001b[49m\u001b[38;5;241;43m*\u001b[39;49m\u001b[38;5;241;43m*\u001b[39;49m\u001b[43mkwargs\u001b[49m\u001b[43m)\u001b[49m\n\u001b[1;32m   2545\u001b[0m \u001b[38;5;66;03m# The code below prevents the output from being displayed\u001b[39;00m\n\u001b[1;32m   2546\u001b[0m \u001b[38;5;66;03m# when using magics with decorator @output_can_be_silenced\u001b[39;00m\n\u001b[1;32m   2547\u001b[0m \u001b[38;5;66;03m# when the last Python token in the expression is a ';'.\u001b[39;00m\n\u001b[1;32m   2548\u001b[0m \u001b[38;5;28;01mif\u001b[39;00m \u001b[38;5;28mgetattr\u001b[39m(fn, magic\u001b[38;5;241m.\u001b[39mMAGIC_OUTPUT_CAN_BE_SILENCED, \u001b[38;5;28;01mFalse\u001b[39;00m):\n",
      "File \u001b[0;32m~/jupyter-ai-main/magic_pandas_ai.py:262\u001b[0m, in \u001b[0;36mPandasAIMagics.pandas_ai\u001b[0;34m(self, line, cell)\u001b[0m\n\u001b[1;32m    259\u001b[0m args \u001b[38;5;241m=\u001b[39m parse_argstring(\u001b[38;5;28mself\u001b[39m\u001b[38;5;241m.\u001b[39mpandas_ai, line)\n\u001b[1;32m    260\u001b[0m \u001b[38;5;28mprint\u001b[39m(\u001b[38;5;124m\"\u001b[39m\u001b[38;5;124m当前输入参数为\u001b[39m\u001b[38;5;124m\"\u001b[39m, args, \u001b[38;5;124m'\u001b[39m\u001b[38;5;130;01m\\n\u001b[39;00m\u001b[38;5;124m'\u001b[39m)\n\u001b[0;32m--> 262\u001b[0m field_descriptions \u001b[38;5;241m=\u001b[39m \u001b[38;5;28;43mself\u001b[39;49m\u001b[38;5;241;43m.\u001b[39;49m\u001b[43mshell\u001b[49m\u001b[38;5;241;43m.\u001b[39;49m\u001b[43muser_ns\u001b[49m\u001b[38;5;241;43m.\u001b[39;49m\u001b[43mget\u001b[49m\u001b[43m(\u001b[49m\u001b[43margs\u001b[49m\u001b[38;5;241;43m.\u001b[39;49m\u001b[43mfield_descriptions\u001b[49m\u001b[43m)\u001b[49m\n\u001b[1;32m    263\u001b[0m \u001b[38;5;28mprint\u001b[39m(\u001b[38;5;124m\"\u001b[39m\u001b[38;5;124m获取到的field_descriptions是\u001b[39m\u001b[38;5;124m\"\u001b[39m, field_descriptions)\n\u001b[1;32m    264\u001b[0m field_descriptions \u001b[38;5;241m=\u001b[39m ast\u001b[38;5;241m.\u001b[39mliteral_eval(field_descriptions)\n",
      "\u001b[0;31mTypeError\u001b[0m: unhashable type: 'list'"
     ]
    }
   ],
   "source": [
    "%%pandas_ai sales_by_country --field_descriptions=field_descriptions\n",
    "sales最高的国家是哪一个？"
   ]
  },
  {
   "cell_type": "code",
   "execution_count": 3,
   "id": "db3a15c4-0404-4515-8d1c-4f6a3e88192f",
   "metadata": {},
   "outputs": [
    {
     "name": "stdout",
     "output_type": "stream",
     "text": [
      "当前输入参数为 Namespace(dfs=['sales_by_country'], model='deepseek-r1:7b', api_base='http://localhost:11434/v1', output_type='string', agent=False, memory_size=5, clarification=False, explain=False, skills=None, whitelist=None, example_df=None, field_descriptions=None) \n",
      "\n",
      "{'type': 'string', 'value': 'The highest sales are 7000 in China.'}\n"
     ]
    },
    {
     "data": {
      "text/plain": [
       "'The highest sales are 7000 in China.'"
      ]
     },
     "execution_count": 3,
     "metadata": {},
     "output_type": "execute_result"
    }
   ],
   "source": [
    "%%pandas_ai sales_by_country\n",
    "sales最高的国家是哪一个？"
   ]
  },
  {
   "cell_type": "code",
   "execution_count": 4,
   "id": "d3c02518-8841-4722-a647-539b38184998",
   "metadata": {},
   "outputs": [
    {
     "name": "stdout",
     "output_type": "stream",
     "text": [
      "当前输入参数为 Namespace(dfs=['sales_by_country'], model='deepseek-r1:7b', api_base='http://localhost:11434/v1', output_type='string', agent=False, memory_size=5, clarification=False, explain=False, skills=None, whitelist=None, example_df=None, field_descriptions=None) \n",
      "\n",
      "{'type': 'dataframe', 'value':           country  sales\n",
      "0           China   7000\n",
      "1   United States   5000\n",
      "2           Japan   4500\n",
      "3         Germany   4100\n",
      "4  United Kingdom   3200}\n"
     ]
    },
    {
     "data": {
      "text/html": [
       "<div>\n",
       "<style scoped>\n",
       "    .dataframe tbody tr th:only-of-type {\n",
       "        vertical-align: middle;\n",
       "    }\n",
       "\n",
       "    .dataframe tbody tr th {\n",
       "        vertical-align: top;\n",
       "    }\n",
       "\n",
       "    .dataframe thead th {\n",
       "        text-align: right;\n",
       "    }\n",
       "</style>\n",
       "<table border=\"1\" class=\"dataframe\">\n",
       "  <thead>\n",
       "    <tr style=\"text-align: right;\">\n",
       "      <th></th>\n",
       "      <th>country</th>\n",
       "      <th>sales</th>\n",
       "    </tr>\n",
       "  </thead>\n",
       "  <tbody>\n",
       "    <tr>\n",
       "      <th>0</th>\n",
       "      <td>China</td>\n",
       "      <td>7000</td>\n",
       "    </tr>\n",
       "    <tr>\n",
       "      <th>1</th>\n",
       "      <td>United States</td>\n",
       "      <td>5000</td>\n",
       "    </tr>\n",
       "    <tr>\n",
       "      <th>2</th>\n",
       "      <td>Japan</td>\n",
       "      <td>4500</td>\n",
       "    </tr>\n",
       "    <tr>\n",
       "      <th>3</th>\n",
       "      <td>Germany</td>\n",
       "      <td>4100</td>\n",
       "    </tr>\n",
       "    <tr>\n",
       "      <th>4</th>\n",
       "      <td>United Kingdom</td>\n",
       "      <td>3200</td>\n",
       "    </tr>\n",
       "  </tbody>\n",
       "</table>\n",
       "</div>"
      ],
      "text/plain": [
       "          country  sales\n",
       "0           China   7000\n",
       "1   United States   5000\n",
       "2           Japan   4500\n",
       "3         Germany   4100\n",
       "4  United Kingdom   3200"
      ]
     },
     "execution_count": 4,
     "metadata": {},
     "output_type": "execute_result"
    }
   ],
   "source": [
    "%%pandas_ai sales_by_country\n",
    "用中文回答，sales最高的 top 5 个国家分别是？"
   ]
  },
  {
   "cell_type": "code",
   "execution_count": 5,
   "id": "e01f31a0-97d4-423a-b346-46ddcb65c5a3",
   "metadata": {},
   "outputs": [
    {
     "name": "stdout",
     "output_type": "stream",
     "text": [
      "当前输入参数为 Namespace(dfs=['sales_by_country', 'index_by_country'], model='deepseek-r1:7b', api_base='http://localhost:11434/v1', output_type='string', agent=False, memory_size=5, clarification=False, explain=False, skills=None, whitelist=None, example_df=None, field_descriptions=None) \n",
      "\n",
      "{'type': 'number', 'value': 10}\n"
     ]
    },
    {
     "data": {
      "text/plain": [
       "10"
      ]
     },
     "execution_count": 5,
     "metadata": {},
     "output_type": "execute_result"
    }
   ],
   "source": [
    "%%pandas_ai sales_by_country index_by_country\n",
    "sales 最高的国家 index 是多少？"
   ]
  },
  {
   "cell_type": "code",
   "execution_count": 7,
   "id": "e8c328e4-6ce7-4912-bbaa-17ee20acf6df",
   "metadata": {},
   "outputs": [],
   "source": [
    "# %%pandas_ai sales_by_country\n",
    "# 根据国家使用 matplotlib 绘制sales的直方图，每个直方都使用不同颜色"
   ]
  },
  {
   "cell_type": "code",
   "execution_count": 9,
   "id": "88f47740-e1dc-4908-95a9-1d5567e6c25e",
   "metadata": {},
   "outputs": [],
   "source": [
    "# %%pandas_ai sales_by_country -m qwen2-custom:latest\n",
    "# 根据国家绘制sales的直方图，每个直方都使用不同颜色"
   ]
  },
  {
   "cell_type": "markdown",
   "id": "2d4d1d01-5b35-4f82-909a-7d8b72e8853f",
   "metadata": {},
   "source": [
    "## 测试Agent功能"
   ]
  },
  {
   "cell_type": "code",
   "execution_count": 6,
   "id": "c57f66af-2667-47d7-884d-b17d63c96cf4",
   "metadata": {},
   "outputs": [
    {
     "name": "stdout",
     "output_type": "stream",
     "text": [
      "当前输入参数为 Namespace(dfs=['sales_by_country'], model='deepseek-r1:7b', api_base='http://localhost:11434/v1', output_type='string', agent=True, memory_size=5, clarification=False, explain=False, skills=None, whitelist=None, example_df=None, field_descriptions=None) \n",
      "\n",
      "当前agent已缓存，如需继续对话，请重新输入问题\n",
      "{'type': 'string', 'value': 'The highest sales are 7000 in China.'}\n"
     ]
    },
    {
     "data": {
      "text/plain": [
       "'The highest sales are 7000 in China.'"
      ]
     },
     "execution_count": 6,
     "metadata": {},
     "output_type": "execute_result"
    }
   ],
   "source": [
    "%%pandas_ai sales_by_country --agent\n",
    "sales最高的国家是哪一个？"
   ]
  },
  {
   "cell_type": "code",
   "execution_count": 15,
   "id": "0ef0a959-1302-4c59-883c-f4be61ce16cc",
   "metadata": {},
   "outputs": [],
   "source": [
    "# %%pandas_ai sales_by_country --agent\n",
    "# 转换成中文表达"
   ]
  },
  {
   "cell_type": "code",
   "execution_count": 3,
   "id": "6274c920-4b7c-4d86-b157-f0175284bc0d",
   "metadata": {},
   "outputs": [
    {
     "name": "stdout",
     "output_type": "stream",
     "text": [
      "当前输入参数为 Namespace(dfs=['sales_by_country', 'index_by_country'], model='deepseek-r1:7b', api_base='http://localhost:11434/v1', output_type='string', agent=True, memory_size=5, clarification=False, explain=False, skills=None, whitelist=None, example_df=None, field_descriptions=None) \n",
      "\n",
      "当前agent已缓存，如需继续对话，请重新输入问题\n",
      "{'type': 'number', 'value': 10}\n"
     ]
    },
    {
     "data": {
      "text/plain": [
       "10"
      ]
     },
     "execution_count": 3,
     "metadata": {},
     "output_type": "execute_result"
    }
   ],
   "source": [
    "%%pandas_ai sales_by_country index_by_country --agent\n",
    "sales 最高的国家 index 是多少？"
   ]
  },
  {
   "cell_type": "code",
   "execution_count": 3,
   "id": "8d6f5efd-307d-44c0-8982-bd7f920a06c7",
   "metadata": {
    "scrolled": true
   },
   "outputs": [
    {
     "name": "stdout",
     "output_type": "stream",
     "text": [
      "当前输入参数为 Namespace(dfs=['sales_by_country', 'index_by_country'], model='deepseek-r1:7b', api_base='http://localhost:11434/v1', output_type='string', agent=True, memory_size=5, clarification=False, explain=True, skills=None, whitelist=None, example_df=None, field_descriptions=None) \n",
      "\n",
      "当前agent已缓存，如需继续对话，请重新输入问题\n",
      "{'type': 'number', 'value': 10}\n",
      "******************** \t 启动explain模式 \t ********************\n"
     ]
    },
    {
     "data": {
      "text/markdown": [
       "\n",
       "\n",
       "好的，我来解释一下代码的逻辑：\n",
       "\n",
       "1. **读取数据**：`df1 = dfs[0]` 和 `df2 = dfs[1]` 是从外部数据加载器中读取两个数据框（表格）。`dfs` 可能是一个包含多个数据框的列表。\n",
       "\n",
       "2. **计算最大销售额**：`max_sales = df1[\"sales\"].max()` 找出 `df1` 中 `sales` 列的最大值，也就是销售额最高的数值。\n",
       "\n",
       "3. **找到对应的国家**：`highest_sales_country = df1[df1[\"sales\"] == max_sales][\"country\"].iloc[0]` 在 `df1` 中筛选出销售额等于 `max_sales` 的行，并取这些行中第一个国家的名称。这样就找到了销售额最高的国家。\n",
       "\n",
       "4. **获取索引值**：`index_value = df2[df2[\"country\"] == highest_sales_country][\"index\"].values[0]` 在 `df2` 中筛选出国家等于 `highest_sales_country` 的行，并取这些行中第一个国家的索引值。这样就找到了销售额最高的国家对应的索引。\n",
       "\n",
       "5. **返回结果**：`result = {\"type\": \"number\", \"value\": index_value}` 将结果包装成一个字典，类型为“数字”，值是索引值。\n",
       "\n",
       "6. **输出结果**：`print(result)` 打印最终结果。"
      ],
      "text/plain": [
       "<IPython.core.display.Markdown object>"
      ]
     },
     "metadata": {},
     "output_type": "display_data"
    }
   ],
   "source": [
    "%%pandas_ai sales_by_country index_by_country --agent -e \n",
    "sales 最高的国家 index 是多少？"
   ]
  },
  {
   "cell_type": "code",
   "execution_count": 9,
   "id": "9498c19a-479e-404f-b58d-cf0bffa6ec17",
   "metadata": {},
   "outputs": [
    {
     "name": "stdout",
     "output_type": "stream",
     "text": [
      "当前输入参数为 Namespace(dfs=['sales_by_country', 'index_by_country'], model='deepseek-r1:7b', api_base='http://localhost:11434/v1', output_type='string', agent=True, memory_size=5, clarification=True, explain=False, skills=None, whitelist=None, example_df=None, field_descriptions=None) \n",
      "\n",
      "当前agent已缓存，如需继续对话，请重新输入问题\n",
      "******************** \t 启动clarification模式 \t ********************\n",
      "Agent澄清功能返回结果\n",
      "\n",
      "['请问您指的是哪个指标的index？', '您能否提供更多的背景信息或定义关于“index”是什么？', '是否有缺失的数据需要考虑？']\n",
      "********************\n"
     ]
    },
    {
     "data": {
      "text/plain": [
       "['请问您指的是哪个指标的index？', '您能否提供更多的背景信息或定义关于“index”是什么？', '是否有缺失的数据需要考虑？']"
      ]
     },
     "execution_count": 9,
     "metadata": {},
     "output_type": "execute_result"
    }
   ],
   "source": [
    "%%pandas_ai sales_by_country index_by_country --agent -c\n",
    "sales 最高的国家 index 是多少？"
   ]
  },
  {
   "cell_type": "code",
   "execution_count": 5,
   "id": "a1990c55-d07f-4152-92a3-0f4421e0fb02",
   "metadata": {},
   "outputs": [
    {
     "name": "stdout",
     "output_type": "stream",
     "text": [
      "当前输入参数为 Namespace(dfs=['sales_by_country', 'index_by_country'], model='deepseek-r1:7b', api_base='http://localhost:11434/v1', output_type='string', agent=True, memory_size=5, clarification=True, explain=True, skills=None, whitelist=None, example_df=None, field_descriptions=None) \n",
      "\n",
      "当前agent已缓存，如需继续对话，请重新输入问题\n",
      "******************** \t 启动clarification模式 \t ********************\n",
      "Agent澄清功能返回结果\n",
      "\n",
      "['请问“index”在这里具体指的是什么指标或计算方式吗？', '请问在查找“sales 最高的国家 index 是多少？”时，是否需要排除某些国家（例如重复的国家）？', '请问您希望将两个数据框中的数据如何关联以确定最高的国家及其对应的 index 值？']\n",
      "********************\n",
      "******************** \t 启动explain模式 \t ********************\n"
     ]
    },
    {
     "data": {
      "text/plain": [
       "'\\n\\n好的，我会用简单易懂的语言解释我是如何为非技术背景的人生成代码的。\\n\\n首先，我需要了解用户的需求是什么。他们可能想要一些能够帮助他们完成特定任务的代码，比如数据分析、预测、自动化流程等。为了满足这些需求，我会基于对话历史中的上下文来推断他们的具体目标。\\n\\n接下来，我会选择合适的工具和库。虽然不会提到技术细节，但会使用大家熟悉的框架，如pandas处理数据，scikit-learn进行机器学习等。这些库在非技术领域中比较常见，容易理解。\\n\\n然后，我将代码分成几个步骤来解释。例如：\\n\\n1. 导入必要的库\\n2. 加载数据集\\n3. 数据预处理\\n4. 模型训练\\n5. 结果展示\\n\\n每个步骤都会用简单的中文描述，并附上注释说明每行代码的作用。\\n\\n最后，我会提供一个完整的代码示例，并解释每个部分的功能。这样用户可以复制并运行代码，看到实际效果，从而理解如何应用这些代码来满足他们的需求。\\n\\n整个过程都是以清晰简洁的语言为主，避免使用技术术语或复杂的解释，确保非技术人员能够轻松跟随和理解。'"
      ]
     },
     "execution_count": 5,
     "metadata": {},
     "output_type": "execute_result"
    }
   ],
   "source": [
    "%%pandas_ai sales_by_country index_by_country --agent -e -c\n",
    "sales 最高的国家 index 是多少？"
   ]
  },
  {
   "cell_type": "code",
   "execution_count": null,
   "id": "2dcad701-e396-47a8-a97b-93380f090e3b",
   "metadata": {},
   "outputs": [
    {
     "name": "stdout",
     "output_type": "stream",
     "text": [
      "当前输入参数为 Namespace(dfs=['sales_by_country'], model='deepseek-r1:7b', api_base='http://localhost:11434/v1', output_type='string', agent=True, memory_size=5, clarification=False, explain=False, skills=['test'], whitelist=None, example_df=None, field_descriptions=None) \n",
      "\n",
      "目前获取的 instance_key 是：\n",
      " pai_mod_api_age1_mem_cla0_exp0_ski_w_aed1be82f488b019_0054fe331607f1a3\n",
      "创建新的key：value 键值对*************\n",
      "Agent 实例化获取到的参数\n",
      "\n",
      "[          country  sales\n",
      "0   United States   5000\n",
      "1  United Kingdom   3200\n",
      "2          France   2900\n",
      "3         Germany   4100\n",
      "4           Italy   2300\n",
      "5           Spain   2100\n",
      "6          Canada   2500\n",
      "7       Australia   2600\n",
      "8           Japan   4500\n",
      "9           China   7000] <pandasai.llm.local_llm.LocalLLM object at 0x153f93d30> 5 ['test'] 画一个国家为横轴，sales 为纵轴的折线图 False False []\n",
      "func_name 名称\n",
      "\n",
      "test\n",
      "<class 'function'> \n",
      "\n",
      "args******* (<function test at 0x153fd57e0>,)\n",
      "args[0]的类型 <function test at 0x153fd57e0> <class 'function'>\n",
      "args[0].__name_ test\n",
      "✅ 已加载技能: test\n",
      "********注意！ Agent 只能使用一个 skill，多个 skill 会发生覆盖*********\n",
      "当前agent已缓存，如需继续对话，请重新输入问题\n",
      "将要处理的问题是\n",
      " 画一个国家为横轴，sales 为纵轴的折线图\n"
     ]
    }
   ],
   "source": [
    "%%pandas_ai sales_by_country --agent -s plot_salaries\n",
    "画一个国家为横轴，sales 为纵轴的折线图"
   ]
  },
  {
   "cell_type": "code",
   "execution_count": 4,
   "id": "85957fa7-ed5b-48b2-94aa-1f63874ea933",
   "metadata": {
    "scrolled": true
   },
   "outputs": [
    {
     "name": "stdout",
     "output_type": "stream",
     "text": [
      "当前输入参数为 Namespace(dfs=['sales_by_country'], model='deepseek-r1:7b', api_base='http://localhost:11434/v1', output_type='string', agent=True, memory_size=5, clarification=False, explain=False, skills=['plot_salaries'], whitelist=['pandasai'], example_df=None, field_descriptions=None) \n",
      "\n",
      "目前获取的 instance_key 是：\n",
      " pai_mod_api_age1_mem_cla0_exp0_ski_w_28be774f5fdc5739_4e22d44e532106a4\n",
      "创建新的key：value 键值对*************\n",
      "Agent 实例化获取到的参数\n",
      "\n",
      "[          country  sales\n",
      "0   United States   5000\n",
      "1  United Kingdom   3200\n",
      "2          France   2900\n",
      "3         Germany   4100\n",
      "4           Italy   2300\n",
      "5           Spain   2100\n",
      "6          Canada   2500\n",
      "7       Australia   2600\n",
      "8           Japan   4500\n",
      "9           China   7000] <pandasai.llm.local_llm.LocalLLM object at 0x144213b80> 5 ['plot_salaries'] 画一个国家为横轴，sales 为纵轴的折线图 False False ['pandasai']\n",
      "type skill function: <function plot_salaries at 0x144232f80>\n",
      "✅ 已加载技能: plot_salaries\n",
      "********注意！ Agent 只能使用一个 skill，多个 skill 会发生覆盖*********\n",
      "当前agent已缓存，如需继续对话，请重新输入问题\n",
      "将要处理的问题是\n",
      " 画一个国家为横轴，sales 为纵轴的折线图\n",
      "Agent返回结果\n",
      " Unfortunately, I was not able to answer your question, because of the following error:\n",
      "\n",
      "Restricted access detected in attribute chain: os.path.join\n",
      "\n"
     ]
    },
    {
     "name": "stderr",
     "output_type": "stream",
     "text": [
      "Traceback (most recent call last):\n",
      "  File \"/Users/gedun/anaconda3/envs/jupyter-ai/lib/python3.10/site-packages/pandasai/pipelines/chat/code_cleaning.py\", line 95, in execute\n",
      "    code_to_run = self.get_code_to_run(input, code_context)\n",
      "  File \"/Users/gedun/anaconda3/envs/jupyter-ai/lib/python3.10/site-packages/pandasai/pipelines/chat/code_cleaning.py\", line 127, in get_code_to_run\n",
      "    ] and self._is_malicious_code(code):\n",
      "  File \"/Users/gedun/anaconda3/envs/jupyter-ai/lib/python3.10/site-packages/pandasai/pipelines/chat/code_cleaning.py\", line 204, in _is_malicious_code\n",
      "    raise MaliciousQueryError(\n",
      "pandasai.exceptions.MaliciousQueryError: Restricted library import detected: os\n",
      "\n",
      "During handling of the above exception, another exception occurred:\n",
      "\n",
      "Traceback (most recent call last):\n",
      "  File \"/Users/gedun/anaconda3/envs/jupyter-ai/lib/python3.10/site-packages/pandasai/pipelines/chat/generate_chat_pipeline.py\", line 335, in run\n",
      "    ).run(input)\n",
      "  File \"/Users/gedun/anaconda3/envs/jupyter-ai/lib/python3.10/site-packages/pandasai/pipelines/pipeline.py\", line 137, in run\n",
      "    raise e\n",
      "  File \"/Users/gedun/anaconda3/envs/jupyter-ai/lib/python3.10/site-packages/pandasai/pipelines/pipeline.py\", line 101, in run\n",
      "    step_output = logic.execute(\n",
      "  File \"/Users/gedun/anaconda3/envs/jupyter-ai/lib/python3.10/site-packages/pandasai/pipelines/chat/code_cleaning.py\", line 101, in execute\n",
      "    return self.on_retry(code_to_run, e)\n",
      "  File \"/Users/gedun/anaconda3/envs/jupyter-ai/lib/python3.10/site-packages/pandasai/pipelines/chat/generate_chat_pipeline.py\", line 162, in on_code_retry\n",
      "    return self.code_exec_error_pipeline.run(correction_input)\n",
      "  File \"/Users/gedun/anaconda3/envs/jupyter-ai/lib/python3.10/site-packages/pandasai/pipelines/chat/error_correction_pipeline/error_correction_pipeline.py\", line 48, in run\n",
      "    return self.pipeline.run(input)\n",
      "  File \"/Users/gedun/anaconda3/envs/jupyter-ai/lib/python3.10/site-packages/pandasai/pipelines/pipeline.py\", line 137, in run\n",
      "    raise e\n",
      "  File \"/Users/gedun/anaconda3/envs/jupyter-ai/lib/python3.10/site-packages/pandasai/pipelines/pipeline.py\", line 101, in run\n",
      "    step_output = logic.execute(\n",
      "  File \"/Users/gedun/anaconda3/envs/jupyter-ai/lib/python3.10/site-packages/pandasai/pipelines/chat/code_cleaning.py\", line 95, in execute\n",
      "    code_to_run = self.get_code_to_run(input, code_context)\n",
      "  File \"/Users/gedun/anaconda3/envs/jupyter-ai/lib/python3.10/site-packages/pandasai/pipelines/chat/code_cleaning.py\", line 127, in get_code_to_run\n",
      "    ] and self._is_malicious_code(code):\n",
      "  File \"/Users/gedun/anaconda3/envs/jupyter-ai/lib/python3.10/site-packages/pandasai/pipelines/chat/code_cleaning.py\", line 222, in _is_malicious_code\n",
      "    check_restricted_access(node)\n",
      "  File \"/Users/gedun/anaconda3/envs/jupyter-ai/lib/python3.10/site-packages/pandasai/pipelines/chat/code_cleaning.py\", line 189, in check_restricted_access\n",
      "    raise MaliciousQueryError(\n",
      "pandasai.exceptions.MaliciousQueryError: Restricted access detected in attribute chain: os.path.join\n"
     ]
    },
    {
     "data": {
      "text/plain": [
       "'Unfortunately, I was not able to answer your question, because of the following error:\\n\\nRestricted access detected in attribute chain: os.path.join\\n'"
      ]
     },
     "execution_count": 4,
     "metadata": {},
     "output_type": "execute_result"
    }
   ],
   "source": [
    "%%pandas_ai sales_by_country --agent -w pandasai -s plot_salaries \n",
    "画一个国家为横轴，sales 为纵轴的折线图"
   ]
  },
  {
   "cell_type": "code",
   "execution_count": null,
   "id": "473571e6-8331-4c9b-8832-bb5e8ae7ae75",
   "metadata": {},
   "outputs": [
    {
     "name": "stdout",
     "output_type": "stream",
     "text": [
      "当前输入参数为 Namespace(dfs=['sales_by_country'], model='deepseek-r1:7b', api_base='http://localhost:11434/v1', output_type='string', agent=True, memory_size=5, clarification=False, explain=False, skills=['test'], whitelist=None, example_df=None, field_descriptions=None) \n",
      "\n",
      "目前获取的 instance_key 是：\n",
      " pai_mod_api_age1_mem_cla0_exp0_ski_w_aed1be82f488b019_e987c04309f45dcf\n",
      "创建新的key：value 键值对*************\n",
      "Agent 实例化获取到的参数\n",
      "\n",
      "[          country  sales\n",
      "0   United States   5000\n",
      "1  United Kingdom   3200\n",
      "2          France   2900\n",
      "3         Germany   4100\n",
      "4           Italy   2300\n",
      "5           Spain   2100\n",
      "6          Canada   2500\n",
      "7       Australia   2600\n",
      "8           Japan   4500\n",
      "9           China   7000] <pandasai.llm.local_llm.LocalLLM object at 0x1567a8190> 5 ['test'] 执行调用 skill 测试的函数 False False []\n",
      "func_name 名称\n",
      "\n",
      "test\n",
      "<class 'function'> \n",
      "\n",
      "args******* (<function test at 0x156779120>,)\n",
      "args[0]的类型 <function test at 0x156779120> <class 'function'>\n",
      "args[0].__name_ test\n",
      "添加技能前:  <Rewrite_code.Rewrite_pandas_ai_.CustomAgent object at 0x1567a8370>\n",
      "添加技能后:  <Rewrite_code.Rewrite_pandas_ai_.CustomAgent object at 0x1567a8370>\n",
      "✅ 已加载技能: test\n",
      "********注意！ Agent 只能使用一个 skill，多个 skill 会发生覆盖*********\n",
      "当前agent已缓存，如需继续对话，请重新输入问题\n",
      "将要处理的问题是\n",
      " 执行调用 skill 测试的函数\n"
     ]
    }
   ],
   "source": [
    "%%pandas_ai sales_by_country --agent -s test\n",
    "执行调用 skill 测试的函数"
   ]
  },
  {
   "cell_type": "code",
   "execution_count": 7,
   "id": "9a665ab0-a05b-4ac1-be4e-d59cd074d2fb",
   "metadata": {},
   "outputs": [
    {
     "name": "stdout",
     "output_type": "stream",
     "text": [
      "当前输入参数为 Namespace(dfs=['index_by_country'], model='deepseek-r1:7b', api_base='http://localhost:11434/v1', output_type='string', agent=True, memory_size=5, clarification=False, explain=False, skills=['data_analyzer'], whitelist=None, example_df=None, field_descriptions=None) \n",
      "\n",
      "目前获取的 instance_key 是：\n",
      " pai_mod_api_age1_mem_cla0_exp0_ski_w_5b8196dbd59b4679_1782fbc09b6207a1\n",
      "创建新的key：value 键值对*************\n",
      "Agent 实例化获取到的参数\n",
      "\n",
      "[          country  index\n",
      "0   United States      1\n",
      "1  United Kingdom      2\n",
      "2          France      3\n",
      "3         Germany      4\n",
      "4           Italy      5\n",
      "5           Spain      6\n",
      "6          Canada      7\n",
      "7       Australia      8\n",
      "8           Japan      9\n",
      "9           China     10] <pandasai.llm.local_llm.LocalLLM object at 0x167928400> 5 ['data_analyzer'] sales 最高的国家 index 是多少？ False False []\n",
      "func_name 名称\n",
      "\n",
      "data_analyzer\n",
      "<class 'function'> \n",
      "\n",
      "args******* (<function data_analyzer at 0x167952dd0>,)\n",
      "args[0]的类型 <function data_analyzer at 0x167952dd0> <class 'function'>\n",
      "args[0].__name_ data_analyzer\n",
      "✅ 已加载技能: data_analyzer\n",
      "********注意！ Agent 只能使用一个 skill，多个 skill 会发生覆盖*********\n",
      "{'type': 'string', 'value': 'The highest index 10 comes from China.'}\n",
      "当前agent已缓存，如需继续对话，请重新输入问题\n",
      "将要处理的问题是\n",
      " sales 最高的国家 index 是多少？\n",
      "{'type': 'string', 'value': 'The highest sales is -1 for the country .'}\n",
      "Agent返回结果\n",
      " The highest sales is -1 for the country .\n"
     ]
    },
    {
     "data": {
      "text/plain": [
       "'The highest sales is -1 for the country .'"
      ]
     },
     "execution_count": 7,
     "metadata": {},
     "output_type": "execute_result"
    }
   ],
   "source": [
    "%%pandas_ai index_by_country --agent -s data_analyzer\n",
    "sales 最高的国家 index 是多少？"
   ]
  },
  {
   "cell_type": "code",
   "execution_count": null,
   "id": "eb69cf16-98ae-4e1d-81f2-28541cabc510",
   "metadata": {},
   "outputs": [],
   "source": []
  },
  {
   "cell_type": "code",
   "execution_count": null,
   "id": "3676b119-6d0d-46d7-93f7-6e29183b49c3",
   "metadata": {},
   "outputs": [],
   "source": []
  },
  {
   "cell_type": "code",
   "execution_count": null,
   "id": "34828759-09ba-4bb3-9624-c3a3cbeb69b7",
   "metadata": {},
   "outputs": [],
   "source": [
    "# %%pandas_ai sales_by_country\n",
    "# 根据国家名称绘制sales的直方图，每个直方都使用不同颜色"
   ]
  },
  {
   "cell_type": "code",
   "execution_count": null,
   "id": "c4ed1968-587f-4210-90e7-89a95bf38304",
   "metadata": {},
   "outputs": [],
   "source": [
    "# %%pandas_ai?"
   ]
  },
  {
   "cell_type": "code",
   "execution_count": 18,
   "id": "1d02cfa7-6d40-4c50-99a6-5387b21fe7be",
   "metadata": {},
   "outputs": [
    {
     "name": "stdout",
     "output_type": "stream",
     "text": [
      "没有存储的PandasAI实例\n"
     ]
    }
   ],
   "source": [
    "%pandasai_list"
   ]
  },
  {
   "cell_type": "code",
   "execution_count": 17,
   "id": "caa0ddbf-648a-4f47-8f10-3db22619bb0e",
   "metadata": {},
   "outputs": [
    {
     "name": "stdout",
     "output_type": "stream",
     "text": [
      "已清理所有实例\n"
     ]
    }
   ],
   "source": [
    "%pandasai_clean"
   ]
  },
  {
   "cell_type": "code",
   "execution_count": null,
   "id": "de363652-fe1a-4eab-aa21-95e6e25e1fba",
   "metadata": {},
   "outputs": [],
   "source": [
    "def plot_salaries(merged_df: pd.DataFrame):\n",
    "    \"\"\"\n",
    "    Displays the bar chart having name on x-axis and salaries on y-axis using streamlit\n",
    "    \"\"\"\n",
    "    import matplotlib.pyplot as plt\n",
    "\n",
    "    plt.bar(merged_df[\"Name\"], merged_df[\"Salary\"])\n",
    "    plt.xlabel(\"Employee Name\")\n",
    "    plt.ylabel(\"Salary\")\n",
    "    plt.title(\"Employee Salaries\")\n",
    "    plt.xticks(rotation=45)\n",
    "    plt.savefig(\"temp_chart.png\")\n",
    "    plt.close()"
   ]
  },
  {
   "cell_type": "code",
   "execution_count": null,
   "id": "dacb4537-3fa6-4dab-8cd6-bba17d9ee741",
   "metadata": {},
   "outputs": [],
   "source": [
    "def test():\n",
    "    \"\"\"\n",
    "    skill 技能调用测试，返回结果说明 skill 调用成功\n",
    "    \"\"\"\n",
    "    print(\"skill 技能已生效！！！！\")\n",
    "    return \"这是来自skill的测试响应\""
   ]
  },
  {
   "cell_type": "code",
   "execution_count": null,
   "id": "0c9ebae8-df30-48c7-a781-2b78eaaccca8",
   "metadata": {},
   "outputs": [],
   "source": []
  },
  {
   "cell_type": "code",
   "execution_count": null,
   "id": "7f4b8b1d-3370-4d97-85d4-b4c9a1bc2c7f",
   "metadata": {},
   "outputs": [],
   "source": []
  },
  {
   "cell_type": "code",
   "execution_count": null,
   "id": "bbd7ab92-e1e2-4cac-89a8-aac290ba692c",
   "metadata": {},
   "outputs": [],
   "source": []
  },
  {
   "cell_type": "code",
   "execution_count": null,
   "id": "08753632-1cdc-4b34-aa97-6c6a17df5764",
   "metadata": {},
   "outputs": [],
   "source": []
  },
  {
   "cell_type": "code",
   "execution_count": null,
   "id": "aeb55e40-598c-43e9-b44b-28dc1d15aec6",
   "metadata": {},
   "outputs": [],
   "source": []
  },
  {
   "cell_type": "code",
   "execution_count": null,
   "id": "9e0b3161-263b-4991-9cbc-ffc768e29756",
   "metadata": {},
   "outputs": [],
   "source": []
  },
  {
   "cell_type": "code",
   "execution_count": null,
   "id": "df2aa0de-3c1e-40e0-9846-69ec499f9e58",
   "metadata": {},
   "outputs": [],
   "source": []
  },
  {
   "cell_type": "code",
   "execution_count": null,
   "id": "fc5757e7-8e98-40d7-b40b-77b820855710",
   "metadata": {},
   "outputs": [],
   "source": []
  },
  {
   "cell_type": "code",
   "execution_count": null,
   "id": "8f2509f0-1f0a-482c-8033-3c59f51cba9f",
   "metadata": {},
   "outputs": [],
   "source": []
  }
 ],
 "metadata": {
  "kernelspec": {
   "display_name": "jupyter-ai",
   "language": "python",
   "name": "jupyter-ai"
  },
  "language_info": {
   "codemirror_mode": {
    "name": "ipython",
    "version": 3
   },
   "file_extension": ".py",
   "mimetype": "text/x-python",
   "name": "python",
   "nbconvert_exporter": "python",
   "pygments_lexer": "ipython3",
   "version": "3.10.16"
  }
 },
 "nbformat": 4,
 "nbformat_minor": 5
}
