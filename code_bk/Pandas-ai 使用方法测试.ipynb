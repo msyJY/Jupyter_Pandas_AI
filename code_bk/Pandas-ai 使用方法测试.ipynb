{
 "cells": [
  {
   "cell_type": "code",
   "execution_count": 1,
   "id": "c9883fdd-53ee-4cae-9d81-0685bddd79e3",
   "metadata": {},
   "outputs": [],
   "source": [
    "import os\n",
    "import pandas as pd\n",
    "from pandasai import Agent\n",
    "from pandasai.llm.local_llm import LocalLLM"
   ]
  },
  {
   "cell_type": "code",
   "execution_count": 2,
   "id": "cf8bcb9d-a232-43c5-81da-e303ad7f5187",
   "metadata": {},
   "outputs": [],
   "source": [
    "sales_by_country = pd.DataFrame({\n",
    "    \"country\": [\"United States\", \"United Kingdom\", \"France\", \"Germany\", \"Italy\", \"Spain\", \"Canada\", \"Australia\", \"Japan\", \"China\"],\n",
    "    \"sales\": [5000, 3200, 2900, 4100, 2300, 2100, 2500, 2600, 4500, 7000]\n",
    "})"
   ]
  },
  {
   "cell_type": "code",
   "execution_count": 3,
   "id": "6a25e6b7-946b-4a7b-8ed5-be321568f0a2",
   "metadata": {},
   "outputs": [],
   "source": [
    "# llm = LocalLLM(api_base='http://localhost:11434/v1', model='deepseek-r1:7b', temperature=0.3, timeout=60)\n",
    "llm = LocalLLM(api_base='http://localhost:11434/v1', model='qwen2-custom:latest', temperature=0.3, timeout=60)"
   ]
  },
  {
   "cell_type": "code",
   "execution_count": 4,
   "id": "a7a33e3d-5dcd-42f7-9a75-d9f67933fda5",
   "metadata": {},
   "outputs": [
    {
     "data": {
      "text/html": [
       "<div>\n",
       "<style scoped>\n",
       "    .dataframe tbody tr th:only-of-type {\n",
       "        vertical-align: middle;\n",
       "    }\n",
       "\n",
       "    .dataframe tbody tr th {\n",
       "        vertical-align: top;\n",
       "    }\n",
       "\n",
       "    .dataframe thead th {\n",
       "        text-align: right;\n",
       "    }\n",
       "</style>\n",
       "<table border=\"1\" class=\"dataframe\">\n",
       "  <thead>\n",
       "    <tr style=\"text-align: right;\">\n",
       "      <th></th>\n",
       "      <th>country</th>\n",
       "      <th>sales</th>\n",
       "    </tr>\n",
       "  </thead>\n",
       "  <tbody>\n",
       "    <tr>\n",
       "      <th>9</th>\n",
       "      <td>China</td>\n",
       "      <td>7000</td>\n",
       "    </tr>\n",
       "    <tr>\n",
       "      <th>0</th>\n",
       "      <td>United States</td>\n",
       "      <td>5000</td>\n",
       "    </tr>\n",
       "    <tr>\n",
       "      <th>8</th>\n",
       "      <td>Japan</td>\n",
       "      <td>4500</td>\n",
       "    </tr>\n",
       "    <tr>\n",
       "      <th>3</th>\n",
       "      <td>Germany</td>\n",
       "      <td>4100</td>\n",
       "    </tr>\n",
       "    <tr>\n",
       "      <th>1</th>\n",
       "      <td>United Kingdom</td>\n",
       "      <td>3200</td>\n",
       "    </tr>\n",
       "  </tbody>\n",
       "</table>\n",
       "</div>"
      ],
      "text/plain": [
       "          country  sales\n",
       "9           China   7000\n",
       "0   United States   5000\n",
       "8           Japan   4500\n",
       "3         Germany   4100\n",
       "1  United Kingdom   3200"
      ]
     },
     "execution_count": 4,
     "metadata": {},
     "output_type": "execute_result"
    }
   ],
   "source": [
    "agent = Agent(sales_by_country, config={\"llm\":llm}, memory_size=10)\n",
    "agent.chat('sales最高的五个国家是哪些？?')"
   ]
  },
  {
   "cell_type": "code",
   "execution_count": 5,
   "id": "5e096363-1886-4ee9-8c65-56d45f7e4461",
   "metadata": {},
   "outputs": [
    {
     "name": "stdout",
     "output_type": "stream",
     "text": [
      "The country with highest sales is: Italy\n"
     ]
    },
    {
     "name": "stderr",
     "output_type": "stream",
     "text": [
      "Traceback (most recent call last):\n",
      "  File \"/Users/gedun/anaconda3/envs/jupyter-ai/lib/python3.10/site-packages/pandasai/pipelines/chat/generate_chat_pipeline.py\", line 335, in run\n",
      "    ).run(input)\n",
      "  File \"/Users/gedun/anaconda3/envs/jupyter-ai/lib/python3.10/site-packages/pandasai/pipelines/pipeline.py\", line 137, in run\n",
      "    raise e\n",
      "  File \"/Users/gedun/anaconda3/envs/jupyter-ai/lib/python3.10/site-packages/pandasai/pipelines/pipeline.py\", line 101, in run\n",
      "    step_output = logic.execute(\n",
      "  File \"/Users/gedun/anaconda3/envs/jupyter-ai/lib/python3.10/site-packages/pandasai/pipelines/chat/code_execution.py\", line 113, in execute\n",
      "    raise e\n",
      "  File \"/Users/gedun/anaconda3/envs/jupyter-ai/lib/python3.10/site-packages/pandasai/pipelines/chat/code_execution.py\", line 85, in execute\n",
      "    result = self.execute_code(code_to_run, code_context)\n",
      "  File \"/Users/gedun/anaconda3/envs/jupyter-ai/lib/python3.10/site-packages/pandasai/pipelines/chat/code_execution.py\", line 178, in execute_code\n",
      "    raise NoResultFoundError(\"No result returned\")\n",
      "pandasai.exceptions.NoResultFoundError: No result returned\n"
     ]
    },
    {
     "data": {
      "text/plain": [
       "'Unfortunately, I was not able to answer your question, because of the following error:\\n\\nNo result returned\\n'"
      ]
     },
     "execution_count": 5,
     "metadata": {},
     "output_type": "execute_result"
    }
   ],
   "source": [
    "agent.chat('最高的国家是哪个')"
   ]
  },
  {
   "cell_type": "code",
   "execution_count": 6,
   "id": "b9ffa0fd-8cb4-43f7-867a-e7a3ad1633c5",
   "metadata": {},
   "outputs": [
    {
     "name": "stdout",
     "output_type": "stream",
     "text": [
      "base.clarification_questions中大模型返回结果： [\"'sales最高的五个国家是哪些？' 是否指的是按销售额排序的前五名国家?\", \"'最高销售量' 是指总销售额还是某个特定产品或类别的销售额?\", \"查询中的'sales'是否包括所有可能的产品类别和时间段，或者仅限于特定条件?\"]\n"
     ]
    }
   ],
   "source": [
    "query = 'sales最高的五个国家是哪些？'\n",
    "questions = agent.clarification_questions(query)"
   ]
  },
  {
   "cell_type": "code",
   "execution_count": null,
   "id": "8ca5a685-db3d-4311-83ca-68a961485ab4",
   "metadata": {},
   "outputs": [],
   "source": [
    "for question in questions:\n",
    "    print(question)"
   ]
  },
  {
   "cell_type": "code",
   "execution_count": 7,
   "id": "c623d25d-8c3b-4abe-a82a-e38a550dc626",
   "metadata": {},
   "outputs": [
    {
     "name": "stdout",
     "output_type": "stream",
     "text": [
      "To explain this solution in simple terms:\n",
      "\n",
      "Imagine we have some data about different countries' sales figures stored somewhere like a list of dictionaries where each dictionary represents information about one country including its name and total sales.\n",
      "\n",
      "Now someone asked us to find out which country has made the highest amount of sales among all countries. To answer that question efficiently without going through every single piece of data manually:\n",
      "\n",
      "Step-by-step explanation:\n",
      "  \n",
      "  \n",
      "  \n",
      "1\\. **Identify Highest Sales**: First step involves finding out which country had the most sales amongst all others.\n",
      "\n",
      "Imagine sorting these dictionaries based on their total sales like arranging books from tallest to shortest person standing next to them. The book that stands highest represents our answer!\n",
      "\n",
      "Here's how we might do it conceptually:\n",
      "\n",
      "- Look through each dictionary (like checking every book).\n",
      "  \n",
      "  \n",
      "  \n",
      "  \n",
      "\n",
      "2\\. **Determine the Country**: Once sorted correctly, identify which country corresponds to having the most sales.\n",
      "\n",
      "Imagine picking up the tallest person standing next to books analogy translates here too!)\n",
      "\n",
      "So basically:\n",
      "\n",
      "\n",
      "1. We find out who has sold the most products or services.\n",
      "\n",
      "\n",
      "This is how we logically figure it out without needing complex programming terms like 'for loops', 'if statements' etc., which might seem confusing for someone not familiar with coding languages.\n",
      "\n",
      "In essence:\n",
      "\n",
      "- **Find Highest Sales**: Determine country with highest sales figures.\n",
      "  \n",
      "Once identified:\n",
      "\n",
      "\n",
      "  \n",
      "  \n",
      "  \n",
      "\n",
      "3\\. **Provide Answer**\n",
      "\n",
      "\n",
      "We then tell them the name of that country.\n",
      "\n",
      "\n",
      "This is how we simplify finding answers without needing to dive deep into programming specifics like using libraries or functions directly related to data manipulation.\n",
      "\n",
      "So essentially:\n",
      "\n",
      "\n",
      "- We identify who sold most products or services globally\n"
     ]
    }
   ],
   "source": [
    "response = agent.explain()\n",
    "print(response)"
   ]
  },
  {
   "cell_type": "code",
   "execution_count": 11,
   "id": "0316253b-7265-4f58-a3e2-7629d14fa6a9",
   "metadata": {},
   "outputs": [],
   "source": [
    "employees_data = {\n",
    "    \"EmployeeID\": [1, 2, 3, 4, 5],\n",
    "    \"Name\": [\"John\", \"Emma\", \"Liam\", \"Olivia\", \"William\"],\n",
    "    \"Department\": [\"HR\", \"Sales\", \"IT\", \"Marketing\", \"Finance\"],\n",
    "}\n",
    "\n",
    "salaries_data = {\n",
    "    \"EmployeeID\": [1, 2, 3, 4, 5],\n",
    "    \"Salary\": [5000, 6000, 4500, 7000, 5500],\n",
    "}\n",
    "\n",
    "employees_df = pd.DataFrame(employees_data)\n",
    "salaries_df = pd.DataFrame(salaries_data)"
   ]
  },
  {
   "cell_type": "code",
   "execution_count": 12,
   "id": "812f5823-b270-46c7-bd06-f722d753533d",
   "metadata": {},
   "outputs": [
    {
     "name": "stdout",
     "output_type": "stream",
     "text": [
      "args******* (<function plot_salaries at 0x168b585e0>,)\n",
      "args[0]的类型 <function plot_salaries at 0x168b585e0> <class 'function'>\n",
      "args[0].__name_ plot_salaries\n"
     ]
    }
   ],
   "source": [
    "from pandasai.skills import skill\n",
    "@skill\n",
    "def plot_salaries(merged_df: pd.DataFrame):\n",
    "    \"\"\"\n",
    "    Displays the bar chart having name on x-axis and salaries on y-axis using streamlit\n",
    "    \"\"\"\n",
    "    import matplotlib.pyplot as plt\n",
    "\n",
    "    plt.bar(merged_df[\"Name\"], merged_df[\"Salary\"])\n",
    "    plt.xlabel(\"City Name\")\n",
    "    plt.ylabel(\"Salary\")\n",
    "    plt.title(\"Employee Salaries\")\n",
    "    plt.xticks(rotation=45)\n",
    "    plt.savefig(\"temp_chart.png\")\n",
    "    plt.close()"
   ]
  },
  {
   "cell_type": "code",
   "execution_count": 9,
   "id": "d103e209-7846-42bd-a553-cbfe68929cd7",
   "metadata": {},
   "outputs": [],
   "source": [
    "agent.add_skills(data_analyzer)"
   ]
  },
  {
   "cell_type": "code",
   "execution_count": 13,
   "id": "05e0eb3d-998b-4e02-bae8-8f6f632f0ef3",
   "metadata": {},
   "outputs": [],
   "source": [
    "# # Chat with the agent\n",
    "# response = agent.chat(\"执行测试skill函数\")\n",
    "# print(response)"
   ]
  },
  {
   "cell_type": "code",
   "execution_count": 15,
   "id": "03ad6e3d-a799-4146-add6-5594095e90e5",
   "metadata": {},
   "outputs": [
    {
     "name": "stdout",
     "output_type": "stream",
     "text": [
      "Unfortunately, I was not able to answer your question, because of the following error:\n",
      "\n",
      "name 'df1_dataframe' is not defined\n",
      "\n"
     ]
    },
    {
     "name": "stderr",
     "output_type": "stream",
     "text": [
      "Traceback (most recent call last):\n",
      "  File \"/Users/gedun/anaconda3/envs/jupyter-ai/lib/python3.10/site-packages/pandasai/pipelines/chat/generate_chat_pipeline.py\", line 335, in run\n",
      "    ).run(input)\n",
      "  File \"/Users/gedun/anaconda3/envs/jupyter-ai/lib/python3.10/site-packages/pandasai/pipelines/pipeline.py\", line 137, in run\n",
      "    raise e\n",
      "  File \"/Users/gedun/anaconda3/envs/jupyter-ai/lib/python3.10/site-packages/pandasai/pipelines/pipeline.py\", line 101, in run\n",
      "    step_output = logic.execute(\n",
      "  File \"/Users/gedun/anaconda3/envs/jupyter-ai/lib/python3.10/site-packages/pandasai/pipelines/chat/code_execution.py\", line 113, in execute\n",
      "    raise e\n",
      "  File \"/Users/gedun/anaconda3/envs/jupyter-ai/lib/python3.10/site-packages/pandasai/pipelines/chat/code_execution.py\", line 85, in execute\n",
      "    result = self.execute_code(code_to_run, code_context)\n",
      "  File \"/Users/gedun/anaconda3/envs/jupyter-ai/lib/python3.10/site-packages/pandasai/pipelines/chat/code_execution.py\", line 174, in execute_code\n",
      "    exec(code, environment)\n",
      "  File \"<string>\", line 1, in <module>\n",
      "NameError: name 'df1_dataframe' is not defined\n"
     ]
    }
   ],
   "source": [
    "agent = Agent([employees_df, salaries_df], config={\"llm\":llm}, memory_size=10)\n",
    "agent.add_skills(plot_salaries)\n",
    "\n",
    "# Chat with the agent\n",
    "response = agent.chat(\"Plot the employee salaries against names\")\n",
    "print(response)"
   ]
  },
  {
   "cell_type": "code",
   "execution_count": null,
   "id": "8d5234ae-d1fd-4dd8-ba3d-995d059e3f98",
   "metadata": {},
   "outputs": [],
   "source": []
  },
  {
   "cell_type": "code",
   "execution_count": null,
   "id": "83b14ac2-6cc2-43f6-b19c-0d5285469eb7",
   "metadata": {},
   "outputs": [],
   "source": []
  }
 ],
 "metadata": {
  "kernelspec": {
   "display_name": "jupyter-ai",
   "language": "python",
   "name": "jupyter-ai"
  },
  "language_info": {
   "codemirror_mode": {
    "name": "ipython",
    "version": 3
   },
   "file_extension": ".py",
   "mimetype": "text/x-python",
   "name": "python",
   "nbconvert_exporter": "python",
   "pygments_lexer": "ipython3",
   "version": "3.10.16"
  }
 },
 "nbformat": 4,
 "nbformat_minor": 5
}
